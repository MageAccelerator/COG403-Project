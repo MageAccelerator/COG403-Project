{
 "cells": [
  {
   "cell_type": "code",
   "execution_count": 2,
   "metadata": {},
   "outputs": [
    {
     "name": "stdout",
     "output_type": "stream",
     "text": [
      "Requirement already satisfied: cjklib3 in /opt/conda/lib/python3.8/site-packages (0.0.3)\r\n",
      "Requirement already satisfied: SQLAlchemy<2.0,>=0.9.4 in /opt/conda/lib/python3.8/site-packages (from cjklib3) (1.3.20)\r\n"
     ]
    }
   ],
   "source": [
    "!pip install cjklib3"
   ]
  },
  {
   "cell_type": "code",
   "execution_count": 3,
   "metadata": {},
   "outputs": [],
   "source": [
    "#import sys\n",
    "#!{sys.executable} -m pip install cjklib\n",
    "import numpy as np\n",
    "import pandas as pd\n",
    "import cjklib\n",
    "from cjklib import characterlookup"
   ]
  },
  {
   "cell_type": "code",
   "execution_count": 4,
   "metadata": {},
   "outputs": [],
   "source": [
    "df = pd.read_csv('Chinese Lexicon Project Sze et al.csv')"
   ]
  },
  {
   "cell_type": "code",
   "execution_count": 5,
   "metadata": {},
   "outputs": [],
   "source": [
    "# df"
   ]
  },
  {
   "cell_type": "code",
   "execution_count": 6,
   "metadata": {},
   "outputs": [],
   "source": [
    "# Import the xinhua Chinese dictionary\n",
    "xinhua = pd.read_csv(\"xinhua.csv\")"
   ]
  },
  {
   "cell_type": "code",
   "execution_count": 7,
   "metadata": {},
   "outputs": [],
   "source": [
    "char = list(df.Character)\n",
    "rt = list(df.RT)\n",
    "xinhua_char = list(xinhua.character)\n",
    "radical = list(xinhua.radical)"
   ]
  },
  {
   "cell_type": "code",
   "execution_count": 8,
   "metadata": {},
   "outputs": [],
   "source": [
    "######################## Study 1 ########################\n",
    "\n",
    "# check stroke counts\n",
    "charlookup = characterlookup.CharacterLookup('T')\n",
    "stroke_count = []\n",
    "for i in char:\n",
    "    stroke_count.append(charlookup.getStrokeCount(i))\n",
    "\n",
    "# Uncomment to check the stroke count\n",
    "#stroke_count"
   ]
  },
  {
   "cell_type": "code",
   "execution_count": 9,
   "metadata": {},
   "outputs": [],
   "source": [
    "######################## Study 2 ########################\n",
    "# get the radical for each character\n",
    "new_char = []\n",
    "radical_list = []\n",
    "for i in range(len(char)):\n",
    "    for j in range (len(xinhua_char)):\n",
    "        if char[i] == xinhua_char[j]:\n",
    "            radical_list.append(radical[j])\n",
    "            new_char.append(char[i])\n",
    "            \n",
    "# print(radical_list)\n",
    "# print(new_char)"
   ]
  },
  {
   "cell_type": "code",
   "execution_count": 10,
   "metadata": {},
   "outputs": [],
   "source": [
    "# get the stroke count for each charcter in the new list\n",
    "new_stroke_count = []\n",
    "for i in new_char:\n",
    "    new_stroke_count.append(charlookup.getStrokeCount(i))\n",
    "\n",
    "# get the radical count for each charcter\n",
    "radical_count = []\n",
    "for j in radical_list:\n",
    "    radical_count.append(charlookup.getStrokeCount(j))\n",
    "\n",
    "#print(radical_count)"
   ]
  },
  {
   "cell_type": "code",
   "execution_count": 11,
   "metadata": {},
   "outputs": [],
   "source": [
    "# check radical removed stroke counts\n",
    "radical_removed = []\n",
    "for i in range(len(new_stroke_count)):\n",
    "    x = new_stroke_count[i] - radical_count[i]\n",
    "    radical_removed.append(x)\n",
    "\n",
    "#print(radical_removed)"
   ]
  },
  {
   "cell_type": "code",
   "execution_count": 12,
   "metadata": {},
   "outputs": [],
   "source": [
    "# get the reaction time list for radical removed characters\n",
    "new_rt = []\n",
    "for i in range(len(char)):\n",
    "    for j in range(len(new_char)):\n",
    "        if char[i] == new_char[j]:\n",
    "            new_rt.append(rt[i])\n",
    "            \n",
    "# new_rt"
   ]
  },
  {
   "cell_type": "code",
   "execution_count": 13,
   "metadata": {},
   "outputs": [],
   "source": [
    "######################## Data Analysis ########################\n",
    "\n",
    "import matplotlib.pyplot as plt\n",
    "from scipy import stats"
   ]
  },
  {
   "cell_type": "code",
   "execution_count": 15,
   "metadata": {},
   "outputs": [
    {
     "name": "stdout",
     "output_type": "stream",
     "text": [
      "LinregressResult(slope=7.369933790047458, intercept=529.7896487616249, rvalue=0.3098711047884425, pvalue=8.96616586439971e-57, stderr=0.4524448772607573)\n"
     ]
    }
   ],
   "source": [
    "# Study 1 linear regression results\n",
    "slope1, intercept1 =  np.polyﬁt(stroke_count, rt, 1)\n",
    "result_1 = stats.linregress(stroke_count, rt)\n",
    "print(result_1)"
   ]
  },
  {
   "cell_type": "code",
   "execution_count": 16,
   "metadata": {},
   "outputs": [
    {
     "data": {
      "text/plain": [
       "Text(0, 0.5, 'Reaction Time')"
      ]
     },
     "execution_count": 16,
     "metadata": {},
     "output_type": "execute_result"
    },
    {
     "data": {
      "image/png": "[encoded data removed]",
      "text/plain": [
       "<Figure size 432x288 with 1 Axes>"
      ]
     },
     "metadata": {
      "needs_background": "light"
     },
     "output_type": "display_data"
    }
   ],
   "source": [
    "# Study 1 result graph\n",
    "plt.scatter(stroke_count, rt)\n",
    "plt.plot(stroke_count, np.multiply(slope1, stroke_count) + intercept1, 'r-')\n",
    "plt.xlabel(\"Stroke Counts\")\n",
    "plt.ylabel(\"Reaction Time\")"
   ]
  },
  {
   "cell_type": "code",
   "execution_count": 17,
   "metadata": {},
   "outputs": [
    {
     "name": "stdout",
     "output_type": "stream",
     "text": [
      "LinregressResult(slope=7.619099272309819, intercept=555.0624164800901, rvalue=0.2790367734354089, pvalue=7.186914042240392e-46, stderr=0.5250395735895467)\n"
     ]
    }
   ],
   "source": [
    "# Study 2 linear regression results\n",
    "slope2, intercept2 = np.polyﬁt(radical_removed, new_rt, 1)\n",
    "result_2 = stats.linregress(radical_removed, new_rt)\n",
    "print(result_2)"
   ]
  },
  {
   "cell_type": "code",
   "execution_count": 18,
   "metadata": {},
   "outputs": [
    {
     "data": {
      "text/plain": [
       "Text(0, 0.5, 'Reaction Time')"
      ]
     },
     "execution_count": 18,
     "metadata": {},
     "output_type": "execute_result"
    },
    {
     "data": {
      "image/png": "[encoded data removed]",
      "text/plain": [
       "<Figure size 432x288 with 1 Axes>"
      ]
     },
     "metadata": {
      "needs_background": "light"
     },
     "output_type": "display_data"
    }
   ],
   "source": [
    "# Study 2 result graph\n",
    "plt.scatter(radical_removed, new_rt)\n",
    "plt.plot(radical_removed, np.multiply(slope2, radical_removed) + intercept2, 'r-')\n",
    "plt.xlabel(\"Stroke Counts After Removing Radicals\")\n",
    "plt.ylabel(\"Reaction Time\")"
   ]
  },
  {
   "cell_type": "code",
   "execution_count": 19,
   "metadata": {},
   "outputs": [
    {
     "name": "stdout",
     "output_type": "stream",
     "text": [
      "Correlation for study 1 is:  (0.3098711047884415, 8.966165864431881e-57)\n",
      "Correlation for study 2 is:  (0.2790367734354088, 7.186914042211598e-46)\n"
     ]
    }
   ],
   "source": [
    "# correlation analysis\n",
    "from scipy.stats import pearsonr\n",
    "stroke_cor = pearsonr(stroke_count, rt)\n",
    "radical_cor = pearsonr(radical_removed, new_rt)\n",
    "\n",
    "# study 1 correlation\n",
    "print(\"Correlation for study 1 is: \", stroke_cor)\n",
    "\n",
    "# study 2 correlation\n",
    "print(\"Correlation for study 2 is: \", radical_cor)"
   ]
  },
  {
   "cell_type": "code",
   "execution_count": 20,
   "metadata": {},
   "outputs": [
    {
     "name": "stdout",
     "output_type": "stream",
     "text": [
      "霸\n",
      "矗\n",
      "蠢\n",
      "罐\n",
      "躏\n",
      "囊\n",
      "巍\n",
      "醺\n"
     ]
    }
   ],
   "source": [
    "# Check characters with more than 20 strokes\n",
    "for i in char:\n",
    "    if charlookup.getStrokeCount(i) >20:\n",
    "        print(i)"
   ]
  },
  {
   "cell_type": "code",
   "execution_count": null,
   "metadata": {},
   "outputs": [],
   "source": []
  },
  {
   "cell_type": "code",
   "execution_count": null,
   "metadata": {},
   "outputs": [],
   "source": []
  },
  {
   "cell_type": "code",
   "execution_count": null,
   "metadata": {},
   "outputs": [],
   "source": []
  },
  {
   "cell_type": "code",
   "execution_count": null,
   "metadata": {},
   "outputs": [],
   "source": []
  }
 ],
 "metadata": {
  "kernelspec": {
   "display_name": "Python 3",
   "language": "python",
   "name": "python3"
  },
  "language_info": {
   "codemirror_mode": {
    "name": "ipython",
    "version": 3
   },
   "file_extension": ".py",
   "mimetype": "text/x-python",
   "name": "python",
   "nbconvert_exporter": "python",
   "pygments_lexer": "ipython3",
   "version": "3.8.6"
  }
 },
 "nbformat": 4,
 "nbformat_minor": 4
}
