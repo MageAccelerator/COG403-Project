{
 "cells": [
  {
   "cell_type": "code",
   "execution_count": 1,
   "metadata": {},
   "outputs": [
    {
     "name": "stdout",
     "output_type": "stream",
     "text": [
      "Collecting cjklib3\n",
      "  Using cached cjklib3-0.0.3-py3-none-any.whl (28.1 MB)\n",
      "Requirement already satisfied: SQLAlchemy<2.0,>=0.9.4 in /opt/conda/lib/python3.8/site-packages (from cjklib3) (1.3.20)\n",
      "Installing collected packages: cjklib3\n",
      "Successfully installed cjklib3-0.0.3\n"
     ]
    }
   ],
   "source": [
    "!pip install cjklib3"
   ]
  },
  {
   "cell_type": "code",
   "execution_count": 2,
   "metadata": {},
   "outputs": [],
   "source": [
    "#import sys\n",
    "#!{sys.executable} -m pip install cjklib\n",
    "import numpy as np\n",
    "import pandas as pd\n",
    "import cjklib\n",
    "from cjklib import characterlookup"
   ]
  },
  {
   "cell_type": "code",
   "execution_count": 125,
   "metadata": {},
   "outputs": [],
   "source": [
    "df = pd.read_csv('Chinese Lexicon Project Sze et al.csv')"
   ]
  },
  {
   "cell_type": "code",
   "execution_count": 4,
   "metadata": {},
   "outputs": [],
   "source": [
    "# df"
   ]
  },
  {
   "cell_type": "code",
   "execution_count": 133,
   "metadata": {},
   "outputs": [],
   "source": [
    "# Import the xinhua Chinese dictionary\n",
    "xinhua = pd.read_csv(\"xinhua.csv\")"
   ]
  },
  {
   "cell_type": "code",
   "execution_count": 134,
   "metadata": {},
   "outputs": [],
   "source": [
    "char = list(df.Character)\n",
    "rt = list(df.RT)\n",
    "xinhua_char = list(xinhua.character)\n",
    "radical = list(xinhua.radical)"
   ]
  },
  {
   "cell_type": "code",
   "execution_count": 135,
   "metadata": {},
   "outputs": [],
   "source": [
    "######################## Study 1 ########################\n",
    "# Correlation between stroke counts and rt\n",
    "# check stroke counts\n",
    "charlookup = characterlookup.CharacterLookup('T')\n",
    "stroke_count = []\n",
    "for i in char:\n",
    "    stroke_count.append(charlookup.getStrokeCount(i))\n",
    "\n",
    "# Uncomment to check the stroke count\n",
    "#stroke_count"
   ]
  },
  {
   "cell_type": "code",
   "execution_count": 136,
   "metadata": {},
   "outputs": [],
   "source": [
    "######################## Study 2 ########################\n",
    "# Correlation between radical_removed stroke counts and rt\n",
    "# get the radical for each character\n",
    "new_char = []\n",
    "radical_list = []\n",
    "for i in range(len(char)):\n",
    "    for j in range (len(xinhua_char)):\n",
    "        if char[i] == xinhua_char[j]:\n",
    "            radical_list.append(radical[j])\n",
    "            new_char.append(char[i])\n",
    "            \n",
    "# print(radical_list)\n",
    "# print(new_char)"
   ]
  },
  {
   "cell_type": "code",
   "execution_count": 137,
   "metadata": {},
   "outputs": [
    {
     "name": "stdout",
     "output_type": "stream",
     "text": [
      "礡\n",
      "丟\n",
      "屡\n",
      "拋\n"
     ]
    }
   ],
   "source": [
    "# Check missing characters\n",
    "for i in char:\n",
    "    if i not in new_char:\n",
    "        print(i)"
   ]
  },
  {
   "cell_type": "code",
   "execution_count": 138,
   "metadata": {},
   "outputs": [],
   "source": [
    "# get the stroke count for each charcter in the new list\n",
    "new_stroke_count = []\n",
    "for i in new_char:\n",
    "    new_stroke_count.append(charlookup.getStrokeCount(i))\n",
    "\n",
    "# get the radical count for each charcter\n",
    "radical_count = []\n",
    "for j in radical_list:\n",
    "    radical_count.append(charlookup.getStrokeCount(j))\n",
    "\n",
    "#print(radical_count)"
   ]
  },
  {
   "cell_type": "code",
   "execution_count": 139,
   "metadata": {},
   "outputs": [],
   "source": [
    "# check radical removed stroke counts\n",
    "radical_removed = []\n",
    "for i in range(len(new_stroke_count)):\n",
    "    x = new_stroke_count[i] - radical_count[i]\n",
    "    radical_removed.append(x)\n",
    "\n",
    "#print(radical_removed)"
   ]
  },
  {
   "cell_type": "code",
   "execution_count": 140,
   "metadata": {},
   "outputs": [],
   "source": [
    "# get the reaction time list for radical removed characters\n",
    "new_rt = []\n",
    "for i in range(len(char)):\n",
    "    for j in range(len(new_char)):\n",
    "        if char[i] == new_char[j]:\n",
    "            new_rt.append(rt[i])\n",
    "            \n",
    "# new_rt"
   ]
  },
  {
   "cell_type": "code",
   "execution_count": 141,
   "metadata": {},
   "outputs": [
    {
     "name": "stdout",
     "output_type": "stream",
     "text": [
      "才\n",
      "采\n",
      "川\n",
      "电\n",
      "刁\n",
      "鼎\n",
      "高\n",
      "胳\n",
      "网\n",
      "无\n",
      "行\n",
      "玄\n",
      "由\n"
     ]
    }
   ],
   "source": [
    "# Check nulls for radical removed characters\n",
    "for i in range(len(radical_removed)):\n",
    "    if radical_removed[i] == 0:\n",
    "        print(new_char[i])"
   ]
  },
  {
   "cell_type": "code",
   "execution_count": 142,
   "metadata": {},
   "outputs": [],
   "source": [
    "######################## Study 3 ########################\n",
    "# Compare rt for radical_removed characters within each radical.\n",
    "\n",
    "# Get all the radicals used in the study\n",
    "radicals = []\n",
    "for k in radical_list: \n",
    "    if k not in radicals:\n",
    "        radicals.append(k)\n",
    "\n",
    "# Get the dictionary containing all characters for each radical.\n",
    "radical_dict = {}\n",
    "for k in radicals:\n",
    "    l = []\n",
    "    for i in range(len(new_char)):\n",
    "        if radical_list[i] == k:\n",
    "            l.append(new_char[i])\n",
    "    radical_dict[k] = l\n"
   ]
  },
  {
   "cell_type": "code",
   "execution_count": 143,
   "metadata": {},
   "outputs": [
    {
     "name": "stdout",
     "output_type": "stream",
     "text": [
      "{'口': ['啊', '哎', '哀', '唉', '叭', '吧', '哺', '嘈', '唱', '呈', '吃', '啜', '喘', '吹', '唇', '呆', '叨', '吊', '哆', '啡', '吠', '吩', '否', '咐', '告', '哥', '各', '咕', '古', '呱', '哈', '含', '喊', '号', '喝', '合', '和', '哄', '吼', '后', '呼', '唤', '吉', '嘉', '叫', '噤', '咎', '句', '君', '可', '吭', '叩', '哭', '啦', '喇', '哩', '吏', '吝', '另', '吕', '吗', '名', '命', '呐', '喃', '囊', '喏', '哦', '啪', '咆', '品', '启', '器', '嚷', '嗓', '啬', '善', '呻', '史', '嗜', '噬', '吮', '司', '嘶', '嗣', '唆', '嗦', '台', '叹', '唐', '嚏', '听', '同', '吐', '吞', '哇', '味', '吻', '呜', '吴', '吾', '吸', '嘻', '喜', '咸', '响', '向', '哓', '嚣', '哮', '啸', '嗅', '喧', '呀', '咬', '叶', '咦', '呓', '吟', '唷', '哟', '咏', '右', '吁', '喻', '员', '咱', '噪', '啧', '喳', '召', '哲', '吱', '只', '周', '嘱', '啄', '嘴'], '土': ['埃', '堡', '埠', '场', '城', '堤', '地', '堵', '堕', '坟', '坏', '圾', '基', '坚', '境', '均', '堪', '坎', '坑', '坤', '垃', '垄', '埋', '墨', '墓', '坪', '墙', '壤', '塞', '圣', '墅', '塌', '坛', '坦', '塘', '填', '墟', '垠', '域', '在', '增', '址', '坠', '坐'], '扌': ['挨', '按', '扒', '拔', '搬', '扮', '抱', '报', '摈', '拨', '播', '搏', '擦', '才', '操', '插', '拆', '抄', '扯', '撤', '撑', '持', '抽', '捶', '搓', '撮', '挫', '措', '打', '掉', '抖', '扼', '扶', '拂', '抚', '搞', '拱', '护', '挥', '挤', '技', '拣', '捡', '搅', '拮', '捷', '揪', '拘', '据', '掘', '揩', '扛', '控', '扣', '捆', '括', '扩', '拉', '捞', '擂', '撩', '捩', '拢', '掳', '掠', '扪', '捺', '挠', '拈', '捏', '扭', '挪', '排', '捧', '批', '披', '撇', '拼', '扑', '抢', '擒', '扰', '扔', '揉', '撒', '搔', '扫', '擅', '摄', '拾', '授', '抒', '摔', '撕', '搜', '擞', '损', '摊', '探', '提', '挑', '挺', '投', '拓', '挖', '挽', '掀', '挟', '携', '掩', '扬', '摇', '揖', '抑', '拥', '援', '择', '扎', '摘', '招', '找', '折', '振', '挣', '拯', '执', '抓', '撰', '撞', '拙', '擢'], '疒': ['癌', '疤', '病', '痴', '疵', '瘁', '痘', '痕', '痪', '疾', '瘠', '疚', '癞', '疗', '疟', '癖', '痊', '瘦', '瘫', '痰', '疼', '瘟', '疡', '痍', '疫', '瘾', '瘴'], '矢': ['矮', '短', '矫', '矩', '知'], '艹': ['蔼', '艾', '苞', '蔽', '薄', '菜', '苍', '藏', '茶', '葱', '荡', '蒂', '范', '芬', '苟', '荷', '花', '获', '荐', '节', '荆', '茎', '蓝', '荔', '莅', '莲', '蔺', '芦', '萝', '落', '芒', '茫', '莽', '茅', '茂', '蒙', '苗', '藐', '蔑', '莫', '葩', '苹', '葡', '葺', '蓉', '荣', '蕊', '若', '萨', '薯', '蒜', '萄', '荼', '萎', '芜', '萧', '薪', '蓄', '薛', '芽', '药', '艺', '荫', '荧', '营', '萤', '蕴', '奘', '葬', '蔗', '芝', '著', '茁'], '阝': ['隘', '阪', '邦', '部', '陈', '除', '陲', '都', '陡', '队', '防', '附', '郭', '际', '降', '郊', '阶', '阱', '陵', '隆', '陋', '陆', '陌', '阡', '隧', '陶', '陀', '隙', '险', '限', '陷', '邪', '阳', '阴', '隐', '阵', '郑', '阻'], '爫': ['爱', '爵'], '石': ['碍', '碑', '碧', '砭', '础', '磋', '碟', '砍', '磕', '砾', '磨', '碰', '破', '砌', '确', '砂', '硕', '碎', '碳', '碗', '研', '硬', '砸', '砖'], '宀': ['安', '宝', '察', '宠', '定', '富', '宫', '寡', '官', '害', '寒', '寂', '寄', '家', '客', '寇', '宽', '寥', '寮', '寐', '密', '寞', '宁', '寝', '容', '审', '实', '室', '守', '宋', '宿', '它', '完', '宛', '宪', '宵', '宣', '宴', '宜', '寓', '宰', '宅', '寨', '宙', '宗'], '革': ['鞍', '鞭', '鞠', '鞋', '靴'], '讠': ['谙', '谤', '诧', '词', '诞', '诋', '调', '读', '诽', '该', '话', '谎', '诙', '诲', '讳', '计', '讲', '诫', '课', '谅', '论', '谜', '谬', '诺', '评', '谴', '让', '认', '设', '说', '讼', '诵', '诉', '讨', '诬', '谐', '谢', '许', '谖', '谑', '询', '训', '讶', '谚', '谣', '诣', '谊', '议', '诱', '语', '诸', '谆'], '山': ['岸', '崩', '岔', '崇', '岛', '岗', '峻', '岭', '峦', '岂', '岁', '巍', '峡', '崖', '岩', '岳', '崭', '嶂'], '日': ['暗', '昂', '暴', '昌', '晨', '春', '旦', '旱', '晃', '晦', '昏', '晋', '晶', '景', '旧', '旷', '昆', '昧', '明', '暮', '暖', '普', '曝', '晴', '晒', '晌', '时', '是', '暑', '曙', '晚', '旺', '曦', '暇', '显', '晓', '旭', '暄', '易', '映', '晕', '暂', '早', '旨', '智', '昼', '昨'], '凵': ['凹', '出', '函', '击', '凸', '凶', '凿'], '辶': ['遨', '逼', '边', '遍', '逞', '迟', '达', '逮', '道', '迪', '迭', '迩', '返', '逢', '过', '还', '迹', '迦', '进', '迥', '连', '迈', '迷', '逆', '迫', '迁', '遣', '逝', '送', '速', '遂', '逃', '迢', '通', '途', '退', '逍', '选', '迅', '遗', '逸', '迎', '迂', '遇', '运', '遭', '造', '遮', '这', '逐', '遵'], '大': ['奥', '奔', '奠', '夺', '奋', '奉', '夫', '奂', '夹', '奖', '夸', '奈', '奇', '失', '太', '套', '天', '头', '奚', '奄', '央', '夭', '夷', '奏'], '氵': ['澳', '波', '潮', '澈', '沉', '池', '淳', '淡', '滴', '涤', '渎', '渡', '法', '泛', '沸', '浮', '溉', '港', '沟', '海', '涵', '汉', '涸', '洪', '滑', '汇', '浑', '活', '激', '济', '浃', '渐', '溅', '江', '浇', '洁', '津', '沮', '溃', '滥', '泪', '涟', '淋', '溜', '流', '漏', '沦', '满', '漫', '没', '湄', '派', '滂', '泡', '澎', '泼', '瀑', '漆', '汽', '洽', '清', '溶', '濡', '洒', '涩', '沙', '涉', '深', '渗', '湿', '漱', '泗', '溯', '汰', '潭', '汤', '涛', '淘', '湾', '温', '汶', '涡', '沃', '污', '洗', '涎', '消', '潇', '淆', '泄', '汹', '涯', '淹', '沿', '演', '漾', '溢', '淫', '泳', '游', '淤', '渝', '渔', '浴', '渊', '源', '涨', '沼', '汁', '治', '洲', '注', '浊', '滋', '滓'], '忄': ['懊', '怖', '惨', '怅', '忱', '憧', '惆', '悼', '惦', '懂', '惰', '怪', '惯', '恨', '恒', '怀', '惶', '恍', '悸', '惊', '憬', '惧', '慨', '恺', '慷', '快', '懒', '离', '怜', '慢', '懵', '恼', '怩', '怕', '恰', '怯', '情', '慑', '慎', '惕', '惋', '悟', '懈', '性', '恤', '怡', '忆', '忧', '愉', '悦', '怔'], '巳': ['巴', '巷'], '竹': ['笆', '笨', '笔', '簸', '簿', '策', '笞', '簇', '篡', '答', '等', '笛', '笃', '符', '竿', '篝', '箕', '箭', '筋', '筐', '篑', '籁', '篮', '笠', '篇', '签', '箧', '簌', '算', '笋', '筒', '箱', '笑', '筵', '竽', '筑'], '足': ['跋', '蹦', '跛', '蹉', '蹈', '踮', '跌', '距', '蹶', '躏', '路', '蹑', '趴', '蹒', '跷', '蹂', '蹋', '踢', '蹄', '跎', '踊', '跃', '躁', '踵'], '父': ['爸', '爹'], '罒': ['罢', '罚', '羁', '罹', '罗', '署', '罩', '置', '罪'], '雨': ['霸', '霍', '雷', '霉', '霓', '霎', '霜', '雾', '需', '雪', '震'], '白': ['百', '的', '皈', '皇', '皎', '皆', '皂'], '手': ['拜', '掣', '承', '摩', '拿', '攀', '擎', '拳', '挚'], '贝': ['败', '贬', '赐', '贷', '赌', '贩', '费', '负', '赋', '贡', '购', '贯', '贵', '贺', '贿', '货', '赖', '赂', '赔', '贫', '赛', '赏', '赎', '贪', '贴', '贤', '贻', '赢', '赞', '责', '贼', '赠', '贞', '赈', '质', '贮', '赚', '赘', '资'], '王': ['班', '瑰', '瑚', '环', '珏', '琳', '珑', '录', '玫', '琦', '琴', '琼', '球', '瑞', '瑟', '珊', '琐', '玩', '现', '璋'], '舟': ['般', '船', '舫', '舰'], '文': ['斑', '斋'], '页': ['颁', '颠', '顿', '顾', '顸', '颈', '颗', '频', '顺', '题', '颓', '项', '须', '颜', '预'], '木': ['板', '榜', '棒', '杯', '本', '标', '槟', '柄', '材', '槽', '查', '柴', '橱', '村', '档', '栋', '杜', '朵', '梵', '概', '杆', '杠', '构', '棺', '柜', '桂', '棍', '果', '杭', '横', '棘', '架', '柬', '桨', '椒', '杰', '桔', '橘', '棵', '来', '栏', '李', '栗', '梁', '林', '柳', '楼', '枚', '梦', '棉', '末', '某', '棚', '朴', '栖', '枪', '樵', '桥', '权', '染', '柔', '森', '杀', '枢', '束', '树', '松', '梭', '桃', '条', '桶', '桅', '未', '析', '橡', '校', '械', '杏', '朽', '样', '椰', '椅', '杂', '栽', '枣', '栅', '榨', '杖', '枕', '枝', '植', '朱', '株', '柱', '桩'], '十': ['半', '卑', '博', '单', '华', '卉', '克', '卖', '南', '千', '升', '午', '协', '卓', '卒'], '亻': ['伴', '傍', '保', '便', '伯', '偿', '倡', '侈', '传', '代', '低', '伐', '份', '俸', '伏', '俘', '俯', '付', '傅', '供', '估', '侯', '候', '伙', '佳', '假', '价', '件', '健', '佼', '借', '仅', '俱', '倔', '傀', '佬', '儡', '例', '俐', '俩', '伶', '侣', '伦', '们', '你', '偶', '佩', '僻', '偏', '侨', '侵', '倾', '仁', '任', '仍', '儒', '傻', '伸', '什', '使', '侍', '似', '俗', '他', '倘', '体', '停', '偷', '伟', '伪', '位', '伍', '侮', '侠', '仙', '像', '信', '休', '修', '仰', '依', '仪', '佣', '优', '佑', '债', '仗', '侦', '值', '伫', '住', '仔', '佐', '作', '做'], '力': ['办', '动', '功', '加', '劫', '劲', '劳', '勒', '励', '劣', '募', '努', '勤', '劝', '劭', '势', '务', '勋', '勇', '助'], '巾': ['帮', '币', '帛', '带', '帝', '帆', '帘', '帽', '帕', '师', '市', '帅', '帖', '希', '席', '帚'], '虫': ['蚌', '蚕', '蠢', '蛋', '蝶', '蛤', '蝴', '蛟', '蜡', '蛮', '蜜', '螃', '蚯', '蠕', '蛇', '蚀', '虽', '蜿', '蚊', '蜈', '蟹', '蜒', '蚁', '蝇', '蛀'], '钅': ['镑', '钞', '钓', '钉', '锻', '铎', '锋', '钢', '锢', '键', '锦', '钧', '铐', '铿', '镭', '镰', '链', '铃', '钮', '铺', '钱', '锵', '锁', '铁', '锡', '销', '钥', '银', '铀', '针', '铸', '锥', '钻'], '勹': ['包', '匆', '勾', '勺', '勿', '匀'], '月': ['胞', '背', '臂', '朝', '脆', '胆', '肚', '腭', '肥', '肺', '服', '腹', '肝', '膏', '股', '胱', '脊', '肩', '脚', '肯', '胯', '腊', '朗', '肋', '脸', '胧', '脉', '朦', '脑', '能', '腻', '胖', '朋', '胼', '期', '腔', '腮', '膳', '肾', '朔', '胎', '膛', '腿', '望', '胃', '膝', '肖', '胥', '胭', '腰', '肴', '有', '育', '脏', '胀', '肢', '胝', '脂', '肘'], '刂': ['剥', '别', '刹', '创', '刺', '刚', '割', '刮', '刽', '划', '剂', '剧', '刻', '剌', '利', '列', '刘', '判', '刨', '前', '删', '剩', '剔', '刎', '刑', '则', '制'], '火': ['煲', '爆', '炳', '灿', '炒', '炽', '炊', '烦', '焚', '焊', '焕', '煌', '灰', '灸', '烤', '烂', '烙', '炼', '燎', '炉', '灭', '炮', '燃', '煽', '烁', '烫', '炜', '熄', '烟', '炎', '灾', '灶', '燥', '炸', '炙', '烛', '灼'], '饣': ['饱', '饼', '饿', '饵', '饭', '馆', '饥', '饯', '馁', '饷', '饮'], '豸': ['豹', '貌'], '匕': ['北', '化'], '衤': ['被', '衬', '褫', '褐', '襟', '裤', '袍', '裙', '衫', '袒', '袜', '裕'], '夂': ['备', '处', '复', '夏'], '车': ['辈', '辍', '轨', '轰', '辉', '辑', '辆', '轮', '轻', '软', '输', '载', '轧', '辗', '轴', '转'], '田': ['畚', '甸', '电', '番', '画', '疆', '界', '留', '略', '男', '畔', '畏', '畜', '由'], '纟': ['绷', '编', '缤', '缠', '绸', '绌', '纯', '绰', '缎', '纺', '纷', '纲', '给', '缓', '绘', '缉', '绩', '级', '纪', '继', '缰', '绞', '结', '经', '绝', '缆', '练', '绿', '络', '绵', '纳', '纽', '绮', '绕', '纱', '绍', '绳', '缩', '统', '纬', '纹', '绪', '续', '绎', '缘', '约', '绽', '织', '纸', '终', '缀', '纵'], '心': ['必', '惩', '慈', '恶', '恩', '忿', '感', '忽', '患', '惠', '惑', '急', '恋', '念', '您', '憩', '惹', '忍', '恕', '思', '态', '忐', '忑', '忘', '慰', '息', '悉', '悬', '意', '悠', '愚', '怨', '愿', '怎', '志', '忠', '总'], '广': ['庇', '床', '底', '废', '府', '庚', '康', '库', '廖', '庙', '庞', '庆', '庶', '庸', '庄', '座'], '比': ['毕'], '攵': ['敝', '敞', '敌', '敦', '放', '敷', '改', '攻', '故', '教', '敬', '救', '敛', '敏', '散', '收', '数', '效', '整', '政'], '门': ['闭', '阐', '闯', '阀', '阂', '间', '闽', '闹', '闪', '闻', '闲', '阅', '闸'], '辛': ['辟', '辫', '辩', '辞', '辣'], '户': ['扁', '房', '扇', '所'], '又': ['变', '叉', '叠', '发', '反', '及', '叛', '取', '受', '叔', '双', '叙', '友'], '衣': ['表', '裁', '袋', '袈', '裂', '裳', '衰', '袭', '裔', '衷', '装'], '彡': ['彬', '彩', '彭', '形', '影'], '冫': ['冰', '冲', '凑', '凋', '冬', '减', '净', '决', '况', '冷', '凉', '凌', '凝', '凄', '冼', '冶'], '八': ['兵', '典', '公', '共', '具', '六', '其', '兴'], '一': ['丙', '不', '丑', '丛', '丁', '东', '丐', '两', '七', '且', '三', '丧', '上', '世', '丝', '万', '下', '严', '与', '丈', '专'], '禾': ['秉', '称', '程', '秤', '稠', '稻', '秆', '稿', '秽', '稽', '积', '稷', '稼', '科', '秒', '穆', '秦', '秋', '稍', '秃', '稳', '稀', '秀', '秧', '移', '秩', '稚', '种'], '干': ['并', '年', '平', '幸'], '马': ['驳', '驰', '驾', '骄', '驴', '骆', '骗', '骑', '骚', '驶', '驮', '驼', '驯', '验', '骤'], '止': ['步', '此', '歧', '歪', '武', '正'], '犭': ['猜', '独', '犯', '狠', '狐', '猾', '狡', '狂', '狼', '狸', '猎', '猫', '猛', '狩', '猥', '狱', '狰'], '采': ['采', '释'], '厶': ['参', '去', '县'], '飠': ['餐'], '歹': ['残', '殊', '死', '殉'], '人': ['仓', '从', '会', '介', '今', '令', '仑', '企', '伞', '以', '余', '众'], '曰': ['曹', '更', '曲', '替', '曳', '曾', '最'], '丿': ['册', '乘', '乏', '乖', '乎', '九', '久', '乐', '么', '乃', '乓', '乒', '乔', '丘', '丸', '乌', '乍', '之'], '厂': ['厕', '厨', '厝', '厄', '厚', '厘', '厉', '历', '厅', '压', '厌', '原'], '尸': ['层', '尺', '届', '尽', '居', '局', '履', '尼', '尿', '屏', '屈', '屠', '尾', '屋', '屣', '屑', '展', '属'], '工': ['差', '巨', '巧', '巫', '左'], '亠': ['产', '亨', '交', '京', '亮', '亩', '亲', '亡', '享', '亦'], '女': ['娼', '妒', '妃', '妇', '好', '姬', '嫁', '奸', '娇', '妈', '媒', '媚', '娩', '妙', '娜', '奶', '嫩', '妮', '娘', '奴', '嫖', '妻', '娶', '如', '婶', '始', '妥', '娃', '婉', '妄', '威', '委', '娓', '嬉', '媳', '嫌', '姓', '姻', '婴', '妆'], '巛': ['巢', '巡'], '彳': ['彻', '待', '得', '德', '很', '徊', '径', '徕', '律', '徘', '往', '微', '徙', '徇', '役', '御', '征'], '小': ['尘', '尔', '恭', '尖', '慕', '尚', '少'], '走': ['趁', '赶', '起', '趋', '趟'], '戈': ['成', '戳', '或', '截', '戒', '戚', '戎', '我', '戏', '战'], '弓': ['弛', '弹', '弟', '弥', '弭', '强', '弱', '弯', '弦', '引', '张'], '耳': ['耻', '聪', '耽', '联', '聊', '聋', '聂', '职'], '斤': ['斥', '断', '斧', '斯', '新', '斩'], '羽': ['翅', '翠', '翻', '翡', '翩', '翘', '耀', '翼'], '儿': ['充', '党', '兑', '光', '兢', '兔', '先', '兄', '元', '允', '兆'], '自': ['臭'], '刀': ['初', '刁', '分', '剪', '免', '切', '刃', '争'], '角': ['触', '解'], '目': ['矗', '督', '睹', '盾', '瞿', '看', '瞌', '眶', '瞒', '盲', '眉', '眠', '瞑', '睦', '盼', '瞥', '省', '睡', '眺', '瞎', '相', '眼', '眨', '真', '睁', '直', '瞩', '着'], '川': ['川', '州'], '穴': ['穿', '窗', '窜', '窖', '窟', '窥', '窍', '穷', '突', '窝', '窑'], '丨': ['串', '丰', '个', '临', '中'], '齿': ['龊', '龄', '龈'], '礻': ['祠', '祷', '福', '礼', '社', '神', '祀', '祝', '祖'], '瓦': ['瓷', '瓶'], '隹': ['雌', '雕', '雇', '集', '难', '雀', '雅', '雁'], '欠': ['次', '歌', '欢', '款', '歇', '欣', '欲'], '米': ['粗', '粉', '粪', '糊', '类', '粒', '糟', '粘', '粥', '粽'], '酉': ['醋', '酒', '酷', '酪', '酿', '配', '醒', '醺', '酝', '酌', '醉'], '子': ['存', '孤', '季', '孔', '孽', '孺', '孰', '孙', '孝', '学', '孕', '孜', '字'], '丶': ['丹', '举', '丽', '为', '义', '主'], '气': ['氮', '氧'], '寸': ['导', '对', '封', '将', '射', '寿', '寺', '尉', '寻', '尊'], '皿': ['盗', '盖', '盒', '监', '盔', '盟', '盘', '盐', '益', '盈', '盏'], '癶': ['登'], '几': ['凳', '凡', '凤', '凯', '凭'], '灬': ['点', '焦', '烈', '然', '热', '煞', '熟', '熹', '熊', '熏', '焉', '燕', '照', '煮'], '殳': ['殿', '段', '殷'], '鼎': ['鼎'], '母': ['毒', '每'], '牜': ['犊', '牡', '牧', '牲', '特', '物', '牺'], '黑': ['黩', '默', '黝'], '立': ['端', '竭', '竟', '竞', '竖', '童', '站', '章'], '夕': ['多', '够', '外', '舞', '夜'], '鸟': ['鹅', '鸽', '鸿', '鸡', '鸣', '鹊', '鸦', '鸭', '鹰'], '糸': ['繁', '紧', '累', '素', '索', '系', '纂'], '用': ['甫'], '肉': ['腐'], '覀': ['覆', '要'], '尢': ['尬', '就', '尤'], '冂': ['冈', '冒', '冕', '内', '冉', '再'], '缶': ['缸', '罐', '缺'], '高': ['高'], '骨': ['胳', '骼'], '耒': ['耕', '耗', '耙', '耘'], '羊': ['羹', '美', '群', '羲', '羡', '羞'], '身': ['躬', '躯'], '囗': ['固', '国', '回', '圃', '四', '图', '团', '因', '园'], '冖': ['冠', '罕', '军', '农', '冤'], '丷': ['关', '兼', '兰', '兽', '养', '兹'], '见': ['观', '规', '觉', '览', '觅', '觑', '视'], '彐': ['归'], '韦': ['韩', '韧'], '毛': ['毫'], '赤': ['赫', '赦'], '行': ['衡', '街', '衔', '行', '衙', '衍'], '士': ['壶', '壳', '声', '壮'], '虍': ['虎', '虏', '虐', '虔', '虚'], '二': ['互', '井', '亏', '五', '些', '亚', '于', '云'], '幺': ['幻', '幽', '幼'], '鬼': ['魂', '魁', '魄'], '卩': ['即', '卿', '却', '卫', '卸', '印'], '旡': ['既'], '示': ['祭', '禁', '禀', '票', '祟'], '艮': ['艰', '良'], '廴': ['建', '延'], '金': ['鉴'], '水': ['浆', '求', '泉', '泰', '永'], '匚': ['匠', '匡', '匿', '匹', '区', '医'], '鱼': ['鲸', '鳞', '鲁', '鲜'], '言': ['警', '譬', '誓', '誉', '詹'], '青': ['静'], '臼': ['舅', '舀', '舆'], '厄': ['卷', '危'], '卜': ['卡', '卧', '占'], '廾': ['开', '廿', '弄', '弃', '异'], '耂': ['考', '者'], '非': ['靠', '靡'], '牛': ['牢', '犁', '牵', '犀'], '里': ['量', '野', '重'], '乙': ['了', '乱', '买', '乞', '乳', '习', '乡', '也'], '斗': ['料', '斡', '斜', '斟'], '方': ['旅', '旁', '旗', '施', '旋', '族'], '玄': ['率', '玄'], '髟': ['髦'], '氏': ['氓', '民'], '而': ['耐', '耍'], '黍': ['黏'], '片': ['牌'], '风': ['飘'], '攴': ['敲'], '入': ['全'], '辰': ['辱'], '舌': ['舍', '舒'], '甘': ['甚', '甜'], '弋': ['式'], '亅': ['事', '予'], '乛': ['书'], '疋': ['疏', '疑'], '爻': ['爽'], '聿': ['肃', '肄'], '网': ['网'], '无': ['无'], '犬': ['献'], '豕': ['象'], '血': ['衅'], '色': ['艳'], '至': ['致'], '皮': ['皱']}\n"
     ]
    }
   ],
   "source": [
    "print(radical_dict)\n"
   ]
  },
  {
   "cell_type": "code",
   "execution_count": 144,
   "metadata": {},
   "outputs": [
    {
     "data": {
      "text/plain": [
       "195"
      ]
     },
     "execution_count": 144,
     "metadata": {},
     "output_type": "execute_result"
    }
   ],
   "source": [
    "len(radicals)"
   ]
  },
  {
   "cell_type": "code",
   "execution_count": 145,
   "metadata": {},
   "outputs": [],
   "source": [
    "######################## Data Analysis ########################\n",
    "\n",
    "import matplotlib.pyplot as plt\n",
    "from scipy import stats"
   ]
  },
  {
   "cell_type": "code",
   "execution_count": 146,
   "metadata": {},
   "outputs": [
    {
     "name": "stdout",
     "output_type": "stream",
     "text": [
      "LinregressResult(slope=7.369933790047458, intercept=529.7896487616249, rvalue=0.3098711047884425, pvalue=8.96616586439971e-57, stderr=0.4524448772607573)\n"
     ]
    }
   ],
   "source": [
    "# Study 1 linear regression results\n",
    "slope1, intercept1 =  np.polyﬁt(stroke_count, rt, 1)\n",
    "result_1 = stats.linregress(stroke_count, rt)\n",
    "print(result_1)"
   ]
  },
  {
   "cell_type": "code",
   "execution_count": 147,
   "metadata": {},
   "outputs": [
    {
     "data": {
      "text/plain": [
       "Text(0, 0.5, 'Reaction Time')"
      ]
     },
     "execution_count": 147,
     "metadata": {},
     "output_type": "execute_result"
    },
    {
     "data": {
      "image/png": "[encoded data removed]",
      "text/plain": [
       "<Figure size 432x288 with 1 Axes>"
      ]
     },
     "metadata": {
      "needs_background": "light"
     },
     "output_type": "display_data"
    }
   ],
   "source": [
    "# Study 1 result graph\n",
    "plt.scatter(stroke_count, rt)\n",
    "plt.plot(stroke_count, np.multiply(slope1, stroke_count) + intercept1, 'r-')\n",
    "plt.xlabel(\"Stroke Counts\")\n",
    "plt.ylabel(\"Reaction Time\")"
   ]
  },
  {
   "cell_type": "code",
   "execution_count": 148,
   "metadata": {},
   "outputs": [
    {
     "name": "stdout",
     "output_type": "stream",
     "text": [
      "LinregressResult(slope=7.619099272309819, intercept=555.0624164800901, rvalue=0.2790367734354089, pvalue=7.186914042240392e-46, stderr=0.5250395735895467)\n"
     ]
    }
   ],
   "source": [
    "# Study 2 linear regression results\n",
    "slope2, intercept2 = np.polyﬁt(radical_removed, new_rt, 1)\n",
    "result_2 = stats.linregress(radical_removed, new_rt)\n",
    "print(result_2)"
   ]
  },
  {
   "cell_type": "code",
   "execution_count": 149,
   "metadata": {},
   "outputs": [
    {
     "data": {
      "text/plain": [
       "Text(0, 0.5, 'Reaction Time')"
      ]
     },
     "execution_count": 149,
     "metadata": {},
     "output_type": "execute_result"
    },
    {
     "data": {
      "image/png": "[encoded data removed]",
      "text/plain": [
       "<Figure size 432x288 with 1 Axes>"
      ]
     },
     "metadata": {
      "needs_background": "light"
     },
     "output_type": "display_data"
    }
   ],
   "source": [
    "# Study 2 result graph\n",
    "plt.scatter(radical_removed, new_rt)\n",
    "plt.plot(radical_removed, np.multiply(slope2, radical_removed) + intercept2, 'r-')\n",
    "plt.xlabel(\"Stroke Counts After Removing Radicals\")\n",
    "plt.ylabel(\"Reaction Time\")"
   ]
  },
  {
   "cell_type": "code",
   "execution_count": 155,
   "metadata": {},
   "outputs": [
    {
     "name": "stdout",
     "output_type": "stream",
     "text": [
      "Radical: 口 \n",
      " LinregressResult(slope=6.866538857920729, intercept=570.9566750089184, rvalue=0.29127260754649353, pvalue=0.0005282204588124549, stderr=1.9338258558576813)\n",
      "Radical: 土 \n",
      " LinregressResult(slope=2.4384992833995467, intercept=593.6891524446078, rvalue=0.1199680321952138, pvalue=0.4379400783954325, stderr=3.113755368655418)\n",
      "Radical: 扌 \n",
      " LinregressResult(slope=7.509133603189079, intercept=568.4829332075204, rvalue=0.30901253240780585, pvalue=0.0003291363990149997, stderr=2.0348194052223794)\n",
      "Radical: 疒 \n",
      " LinregressResult(slope=-2.5107147639771834, intercept=701.2227055027982, rvalue=-0.08074082881587238, pvalue=0.688903002778481, stderr=6.1988900593216725)\n",
      "Radical: 矢 \n",
      " LinregressResult(slope=11.605844777906993, intercept=511.30046188372086, rvalue=0.5442692819843777, pvalue=0.34293767202762837, stderr=10.328041498867051)\n",
      "Radical: 艹 \n",
      " LinregressResult(slope=7.538142083606431, intercept=564.6461205347191, rvalue=0.26726116153473306, pvalue=0.022264843975859663, stderr=3.225573641414224)\n",
      "Radical: 阝 \n",
      " LinregressResult(slope=-0.30038193962883347, intercept=598.1071036640399, rvalue=-0.008661351589170157, pvalue=0.9588398604078958, stderr=5.7799037703502645)\n",
      "Radical: 爫 \n",
      " LinregressResult(slope=23.012004799999996, intercept=358.98679470000013, rvalue=1.0, pvalue=0.0, stderr=0.0)\n",
      "Radical: 石 \n",
      " LinregressResult(slope=-8.07652580502794, intercept=681.6233525593576, rvalue=-0.27362121962091734, pvalue=0.19574732913121162, stderr=6.052923535808962)\n",
      "Radical: 宀 \n",
      " LinregressResult(slope=15.71857219021325, intercept=479.79159023077693, rvalue=0.4830184929202601, pvalue=0.0007773135086778994, stderr=4.34536132904413)\n",
      "Radical: 革 \n",
      " LinregressResult(slope=-7.993798117105261, intercept=698.5549244328947, rvalue=-0.561039340769764, pvalue=0.32514286966308226, stderr=6.809558525253224)\n",
      "Radical: 讠 \n",
      " LinregressResult(slope=4.8764901191606835, intercept=580.6948974548317, rvalue=0.09868334660541696, pvalue=0.48641704552982845, stderr=6.954300387738346)\n",
      "Radical: 山 \n",
      " LinregressResult(slope=7.087000132694296, intercept=579.7271724245595, rvalue=0.32336442434018176, pvalue=0.1905583633935934, stderr=5.1847444215591425)\n",
      "Radical: 日 \n",
      " LinregressResult(slope=11.230597380654633, intercept=538.6950755801745, rvalue=0.46188909739732087, pvalue=0.0010822166347165007, stderr=3.2147854882510494)\n",
      "Radical: 凵 \n",
      " LinregressResult(slope=13.484997975000008, intercept=566.94848805, rvalue=0.40564788274434066, pvalue=0.3665821659290805, stderr=13.588666757156963)\n",
      "Radical: 辶 \n",
      " LinregressResult(slope=3.609302183181125, intercept=565.8029767715374, rvalue=0.12203908766098143, pvalue=0.39359145010305274, stderr=4.19341491616144)\n",
      "Radical: 大 \n",
      " LinregressResult(slope=2.654692163375, intercept=555.4849999484375, rvalue=0.09656894236512689, pvalue=0.65351412727647, stderr=5.833521882216274)\n",
      "Radical: 氵 \n",
      " LinregressResult(slope=2.060743870822171, intercept=606.4874635761695, rvalue=0.06955245591961319, pvalue=0.46014139817627053, stderr=2.7804770642202272)\n",
      "Radical: 忄 \n",
      " LinregressResult(slope=3.9139437201541947, intercept=598.7683911152975, rvalue=0.15753872452594964, pvalue=0.2695619745762643, stderr=3.504870286533772)\n",
      "Radical: 巳 \n",
      " LinregressResult(slope=-6.501008400000001, intercept=544.1774790000001, rvalue=-1.0, pvalue=0.0, stderr=0.0)\n",
      "Radical: 竹 \n",
      " LinregressResult(slope=9.426100867901237, intercept=579.7870598022635, rvalue=0.23178375631105683, pvalue=0.1737571021034979, stderr=6.78451187246574)\n",
      "Radical: 足 \n",
      " LinregressResult(slope=8.906140500868652, intercept=573.3112081388117, rvalue=0.38941599132193555, pvalue=0.05998202664290961, stderr=4.4911057300640005)\n",
      "Radical: 父 \n",
      " LinregressResult(slope=15.262605000000008, intercept=477.80672289999995, rvalue=1.0, pvalue=0.0, stderr=0.0)\n",
      "Radical: 罒 \n",
      " LinregressResult(slope=22.67927471584614, intercept=429.9775279709231, rvalue=0.8739107692563404, pvalue=0.002067446924647713, stderr=4.767893011785514)\n",
      "Radical: 雨 \n",
      " LinregressResult(slope=11.894492442876343, intercept=504.64285119207, rvalue=0.46683186834853146, pvalue=0.14773332078760484, stderr=7.510803921928355)\n",
      "Radical: 白 \n",
      " LinregressResult(slope=34.82459108090909, intercept=476.4256621654545, rvalue=0.5286631804687342, pvalue=0.22248149501344958, stderr=25.005960746117154)\n",
      "Radical: 手 \n",
      " LinregressResult(slope=8.434226865706316, intercept=547.2619738819703, rvalue=0.36106143149384146, pvalue=0.33974596978506605, stderr=8.23348265411168)\n",
      "Radical: 贝 \n",
      " LinregressResult(slope=3.6636309669182476, intercept=556.8196443180971, rvalue=0.1513598933732722, pvalue=0.3576757063402196, stderr=3.9333932753104075)\n",
      "Radical: 王 \n",
      " LinregressResult(slope=6.542072332736572, intercept=563.9029159790282, rvalue=0.21983993462991014, pvalue=0.35169155383984374, stderr=6.842515412636792)\n",
      "Radical: 舟 \n",
      " LinregressResult(slope=-63.27393209999993, intercept=857.7125175999997, rvalue=-0.3187513968568805, pvalue=0.6812486031431195, stderr=133.04299359849412)\n",
      "Radical: 文 \n",
      " LinregressResult(slope=-13.136363650000078, intercept=722.5151516000005, rvalue=-1.0, pvalue=0.0, stderr=0.0)\n",
      "Radical: 页 \n",
      " LinregressResult(slope=-11.856906946879645, intercept=687.126343172734, rvalue=-0.20477557339873104, pvalue=0.4641064013764873, stderr=15.718804675571311)\n",
      "Radical: 木 \n",
      " LinregressResult(slope=12.493971493867177, intercept=528.9909444037529, rvalue=0.45443480414698056, pvalue=3.729203939580291e-06, stderr=2.5395566700365997)\n",
      "Radical: 十 \n",
      " LinregressResult(slope=3.4732204836221823, intercept=549.8904848375216, rvalue=0.12667656761158186, pvalue=0.6528019410857124, stderr=7.543129742089087)\n",
      "Radical: 亻 \n",
      " LinregressResult(slope=7.392178579701481, intercept=546.4953522414268, rvalue=0.3161646155813427, pvalue=0.001800707719717451, stderr=2.300109981639268)\n",
      "Radical: 力 \n",
      " LinregressResult(slope=7.444974188801254, intercept=540.2724068004733, rvalue=0.24378110402322983, pvalue=0.30031617353904666, stderr=6.9810804711936765)\n",
      "Radical: 巾 \n",
      " LinregressResult(slope=7.949318781186289, intercept=532.6669361944394, rvalue=0.21527918281345315, pvalue=0.4232935591847051, stderr=9.637390918189165)\n",
      "Radical: 虫 \n",
      " LinregressResult(slope=3.2119303217293917, intercept=611.4428850861558, rvalue=0.1488998789566684, pvalue=0.4774815258107308, stderr=4.447738757311624)\n",
      "Radical: 钅 \n",
      " LinregressResult(slope=7.930795432837578, intercept=598.5334126082654, rvalue=0.3137392253418648, pvalue=0.07540376970644624, stderr=4.310883165605697)\n",
      "Radical: 勹 \n",
      " LinregressResult(slope=-9.03232821176471, intercept=553.4187839588236, rvalue=-0.14958457780354104, pvalue=0.7772966515892223, stderr=29.851689994438924)\n",
      "Radical: 月 \n",
      " LinregressResult(slope=3.2030395894310657, intercept=606.1500158109678, rvalue=0.08605617311524402, pvalue=0.5169391179441248, stderr=4.911665084683761)\n",
      "Radical: 刂 \n",
      " LinregressResult(slope=-3.415380966651628, intercept=597.6256720134927, rvalue=-0.08183450007987438, pvalue=0.6849003879205566, stderr=8.31904769928076)\n",
      "Radical: 火 \n",
      " LinregressResult(slope=2.6693091750566373, intercept=604.8793382645221, rvalue=0.12555404571855586, pvalue=0.45903281856536593, stderr=3.5651992674520105)\n",
      "Radical: 饣 \n",
      " LinregressResult(slope=-0.7758510047468311, intercept=632.7066962531645, rvalue=-0.016584832578827192, pvalue=0.9613994243327613, stderr=15.591440597384304)\n",
      "Radical: 豸 \n",
      " LinregressResult(slope=-25.235294124999996, intercept=710.941176475, rvalue=-1.0, pvalue=0.0, stderr=0.0)\n",
      "Radical: 匕 \n",
      " LinregressResult(slope=-42.81512609999993, intercept=650.1596639999998, rvalue=-1.0, pvalue=0.0, stderr=0.0)\n",
      "Radical: 衤 \n",
      " LinregressResult(slope=26.362834109833187, intercept=524.0808328019316, rvalue=0.4053522532023764, pvalue=0.1911263867242264, stderr=18.80104510595725)\n",
      "Radical: 夂 \n",
      " LinregressResult(slope=-11.528074857142851, intercept=592.1192067357142, rvalue=-0.7405534385458086, pvalue=0.25944656145419126, stderr=7.396955868460947)\n",
      "Radical: 车 \n",
      " LinregressResult(slope=0.843593340543729, intercept=574.5055733555556, rvalue=0.04165238829131558, pvalue=0.8782722320947062, stderr=5.408192679390734)\n",
      "Radical: 田 \n",
      " LinregressResult(slope=14.02591202068015, intercept=528.7441592727022, rvalue=0.5094797978001628, pvalue=0.06275566504205049, stderr=6.838417650076792)\n",
      "Radical: 纟 \n",
      " LinregressResult(slope=9.017495933766227, intercept=536.9761840311688, rvalue=0.3242517270779255, pvalue=0.019020768770391504, stderr=3.72045795757331)\n",
      "Radical: 心 \n",
      " LinregressResult(slope=4.245303862085862, intercept=551.4162391751983, rvalue=0.1772802275787273, pvalue=0.29386313202613223, stderr=3.9836424399698496)\n",
      "Radical: 广 \n",
      " LinregressResult(slope=-3.829675425783973, intercept=600.4400825200349, rvalue=-0.15631024267059418, pvalue=0.5631997667489337, stderr=6.467539465876749)\n",
      "Radical: 比 \n",
      " LinregressResult(slope=nan, intercept=nan, rvalue=0.0, pvalue=nan, stderr=nan)\n",
      "Radical: 攵 \n",
      " LinregressResult(slope=6.417971593819336, intercept=528.9509764114106, rvalue=0.3551993310206668, pvalue=0.12433353524307578, stderr=3.98110587785624)\n",
      "Radical: 门 \n",
      " LinregressResult(slope=28.886573791666667, intercept=451.46284774935896, rvalue=0.5244711720369237, pvalue=0.06576280777547124, stderr=14.139241178430428)\n",
      "Radical: 辛 \n",
      " LinregressResult(slope=25.573485807575754, intercept=403.35197894242424, rvalue=0.9212297670893859, pvalue=0.02622273465722521, stderr=6.234936820863288)\n",
      "Radical: 户 \n",
      " LinregressResult(slope=-5.113827336363639, intercept=555.3116882727272, rvalue=-0.18738536476712472, pvalue=0.8126146352328752, stderr=18.955426466384115)\n",
      "Radical: 又 \n",
      " LinregressResult(slope=1.3409909133233533, intercept=539.4916916297905, rvalue=0.14150883943572892, pvalue=0.6446980792919084, stderr=2.828482373310844)\n",
      "Radical: 衣 \n",
      " LinregressResult(slope=22.353023789583336, intercept=504.75648914583337, rvalue=0.5058382921334118, pvalue=0.1124080994568579, stderr=12.706532045865162)\n",
      "Radical: 彡 \n",
      " LinregressResult(slope=-8.606598626829268, intercept=638.3161765, rvalue=-0.7590242476047159, pvalue=0.13675300439897262, stderr=4.262239583583602)\n",
      "Radical: 冫 \n",
      " LinregressResult(slope=1.9180668737581021, intercept=599.4077614176025, rvalue=0.05837913527409738, pvalue=0.829957364461978, stderr=8.765985351858834)\n",
      "Radical: 八 \n",
      " LinregressResult(slope=3.3797579364780095, intercept=505.93414726540885, rvalue=0.19716155656937004, pvalue=0.6397906059363276, stderr=6.860854265828319)\n",
      "Radical: 一 \n",
      " LinregressResult(slope=-6.041646527595636, intercept=563.9355866478143, rvalue=-0.225048013845268, pvalue=0.3266872450632772, stderr=6.000912316681663)\n",
      "Radical: 禾 \n",
      " LinregressResult(slope=6.359452556081939, intercept=575.7143375709164, rvalue=0.23768644833568583, pvalue=0.22325288559483486, stderr=5.096837349037842)\n",
      "Radical: 干 \n",
      " LinregressResult(slope=17.88168684210529, intercept=461.53265246315783, rvalue=0.6591769245681439, pvalue=0.3408230754318561, stderr=14.424552085935634)\n",
      "Radical: 马 \n",
      " LinregressResult(slope=-3.1453453834578458, intercept=631.0589062329775, rvalue=-0.11635861984998928, pvalue=0.6796311700738293, stderr=7.446256487826656)\n",
      "Radical: 止 \n",
      " LinregressResult(slope=-1.4778076738461388, intercept=553.2357297338461, rvalue=-0.0303269613086773, pvalue=0.9545235042628939, stderr=24.353378409040126)\n",
      "Radical: 犭 \n",
      " LinregressResult(slope=-1.6688965529467599, intercept=585.1280690225285, rvalue=-0.061600432364370426, pvalue=0.814316372758636, stderr=6.981913605918642)\n",
      "Radical: 采 \n",
      " LinregressResult(slope=19.606617650000004, intercept=538.3235294000001, rvalue=1.0, pvalue=0.0, stderr=0.0)\n",
      "Radical: 厶 \n",
      " LinregressResult(slope=-19.575139164285762, intercept=633.5142858000002, rvalue=-0.9703036568435982, pvalue=0.15553468481924884, stderr=4.87994872003339)\n",
      "Radical: 飠 \n",
      " LinregressResult(slope=nan, intercept=nan, rvalue=0.0, pvalue=nan, stderr=nan)\n",
      "Radical: 歹 \n",
      " LinregressResult(slope=12.162169460465119, intercept=530.9721256627907, rvalue=0.5165589057117246, pvalue=0.4834410942882754, stderr=14.255341414780464)\n",
      "Radical: 人 \n",
      " LinregressResult(slope=0.7884773019354762, intercept=541.3562247690323, rvalue=0.021881816487849072, pvalue=0.9461845811242282, stderr=11.392048525245428)\n",
      "Radical: 曰 \n",
      " LinregressResult(slope=-9.657585548618783, intercept=623.3939514353591, rvalue=-0.3440255964294202, pvalue=0.4499028640907149, stderr=11.787997140270178)\n",
      "Radical: 丿 \n",
      " LinregressResult(slope=4.883577268856439, intercept=561.6649569416059, rvalue=0.11617338378952172, pvalue=0.6461931430447361, stderr=10.438084351408593)\n",
      "Radical: 厂 \n",
      " LinregressResult(slope=12.847836262908022, intercept=523.9280818030662, rvalue=0.37152750708890236, pvalue=0.23439898426714834, stderr=10.152766961022902)\n",
      "Radical: 尸 \n",
      " LinregressResult(slope=18.40411565539651, intercept=466.2255214941199, rvalue=0.6922336443570599, pvalue=0.001455194890847459, stderr=4.796704810443728)\n",
      "Radical: 工 \n",
      " LinregressResult(slope=-4.9686323622806965, intercept=559.5743320192981, rvalue=-0.37204703105097914, pvalue=0.5374622422008264, stderr=7.156924757911497)\n",
      "Radical: 亠 \n",
      " LinregressResult(slope=-11.732254153979234, intercept=623.1671853044983, rvalue=-0.26795385993572834, pvalue=0.45415399405066326, stderr=14.914112131658642)\n",
      "Radical: 女 \n",
      " LinregressResult(slope=3.38770691327201, intercept=574.3723331627135, rvalue=0.15750532996397443, pvalue=0.33172779600433233, stderr=3.4455920601373684)\n",
      "Radical: 巛 \n",
      " LinregressResult(slope=20.329411779999987, intercept=512.4823528600002, rvalue=1.0, pvalue=0.0, stderr=0.0)\n",
      "Radical: 彳 \n",
      " LinregressResult(slope=1.7932387418495348, intercept=596.6401575521943, rvalue=0.0443944177648801, pvalue=0.8656527770630783, stderr=10.4192324911014)\n",
      "Radical: 小 \n",
      " LinregressResult(slope=-1.7921903329431381, intercept=592.1722861981605, rvalue=-0.3539502355295238, pvalue=0.4360367746272024, stderr=2.1178307993306955)\n",
      "Radical: 走 \n",
      " LinregressResult(slope=-1.1517507035714258, intercept=555.8361344571429, rvalue=-0.18976892219397754, pvalue=0.7598368611514329, stderr=3.4403967346707627)\n",
      "Radical: 戈 \n",
      " LinregressResult(slope=5.517532530631863, intercept=560.4365354607144, rvalue=0.3459449130003771, pvalue=0.3274942847685285, stderr=5.2907076788802625)\n",
      "Radical: 弓 \n",
      " LinregressResult(slope=-3.9831288599303107, intercept=595.435374625087, rvalue=-0.1543100105523192, pvalue=0.6505377222072645, stderr=8.501113741902953)\n",
      "Radical: 耳 \n",
      " LinregressResult(slope=-19.044851723076935, intercept=675.5430584461539, rvalue=-0.6330299691630027, pvalue=0.09203903598881052, stderr=9.508019771446367)\n",
      "Radical: 斤 \n",
      " LinregressResult(slope=-14.664355810989017, intercept=640.8789378604396, rvalue=-0.8222192069930873, pvalue=0.04459954475026477, stderr=5.075608381392427)\n",
      "Radical: 羽 \n",
      " LinregressResult(slope=1.3406150648648656, intercept=581.0878557912162, rvalue=0.09816954725064907, pvalue=0.8171112865928042, stderr=5.548158103226752)\n",
      "Radical: 儿 \n",
      " LinregressResult(slope=9.925910428399996, intercept=503.2612578424001, rvalue=0.5516043781801047, pvalue=0.07856009986308557, stderr=5.003139040812031)\n",
      "Radical: 自 \n",
      " LinregressResult(slope=nan, intercept=nan, rvalue=0.0, pvalue=nan, stderr=nan)\n",
      "Radical: 刀 \n",
      " LinregressResult(slope=-7.178003118989897, intercept=600.7391058438384, rvalue=-0.32821627640892326, pvalue=0.4273628930454938, stderr=8.433678494421295)\n",
      "Radical: 角 \n",
      " LinregressResult(slope=nan, intercept=nan, rvalue=0.0, pvalue=0.0, stderr=0.0)\n",
      "Radical: 目 \n",
      " LinregressResult(slope=15.393055884770789, intercept=516.9737915109556, rvalue=0.6790826205549267, pvalue=7.092024658466835e-05, stderr=3.263233930226811)\n",
      "Radical: 川 \n",
      " LinregressResult(slope=14.30808079999997, intercept=509.5, rvalue=1.0, pvalue=0.0, stderr=0.0)\n",
      "Radical: 穴 \n",
      " LinregressResult(slope=25.08964803103447, intercept=461.94247416206895, rvalue=0.6399111772341008, pvalue=0.03396238024946753, stderr=10.043118837702801)\n",
      "Radical: 丨 \n",
      " LinregressResult(slope=-6.590201338888893, intercept=574.9546348111111, rvalue=-0.42364532153043316, pvalue=0.4771978436992507, stderr=8.13544765364078)\n",
      "Radical: 齿 \n",
      " LinregressResult(slope=17.357358850000026, intercept=636.9093638999998, rvalue=0.43848754959292574, pvalue=0.7110286598892824, stderr=35.57616449859805)\n",
      "Radical: 礻 \n",
      " LinregressResult(slope=-2.7960183969387713, intercept=626.0322033520408, rvalue=-0.07369938927581933, pvalue=0.8505387569691654, stderr=14.300276798630689)\n",
      "Radical: 瓦 \n",
      " LinregressResult(slope=nan, intercept=nan, rvalue=0.0, pvalue=0.0, stderr=0.0)\n",
      "Radical: 隹 \n",
      " LinregressResult(slope=16.15445317905759, intercept=526.149147591623, rvalue=0.47222988700579327, pvalue=0.23739726799368008, stderr=12.310434406880642)\n",
      "Radical: 欠 \n",
      " LinregressResult(slope=-3.2229978348484836, intercept=581.6524002662338, rvalue=-0.32639123114141066, pvalue=0.47493765329088405, stderr=4.174228473764214)\n",
      "Radical: 米 \n",
      " LinregressResult(slope=10.122280530223886, intercept=513.0734871026119, rvalue=0.4024938584027476, pvalue=0.24885013789452068, stderr=8.139463663325088)\n",
      "Radical: 酉 \n",
      " LinregressResult(slope=3.3469532923645353, intercept=622.9956917408866, rvalue=0.2018092223899486, pvalue=0.5517988378015973, stderr=5.41450185667388)\n",
      "Radical: 子 \n",
      " LinregressResult(slope=14.603066474509799, intercept=509.6071348450981, rvalue=0.8435435451383849, pvalue=0.00029026456919655625, stderr=2.8032617802189916)\n",
      "Radical: 丶 \n",
      " LinregressResult(slope=0.9515339131578875, intercept=521.3468162263158, rvalue=0.09713271719121366, pvalue=0.8547591363812421, stderr=4.874951269855757)\n",
      "Radical: 气 \n",
      " LinregressResult(slope=60.44219065000004, intercept=284.8762678999997, rvalue=1.0, pvalue=0.0, stderr=0.0)\n",
      "Radical: 寸 \n",
      " LinregressResult(slope=7.43381193884893, intercept=503.3236380679856, rvalue=0.49088122390384653, pvalue=0.14968232981229582, stderr=4.664673332350274)\n",
      "Radical: 皿 \n",
      " LinregressResult(slope=16.389627962931034, intercept=467.4444341362069, rvalue=0.5224464878552904, pvalue=0.0992028265829452, stderr=8.91636968696343)\n",
      "Radical: 癶 \n",
      " LinregressResult(slope=nan, intercept=nan, rvalue=0.0, pvalue=nan, stderr=nan)\n",
      "Radical: 几 \n",
      " LinregressResult(slope=3.505494287500007, intercept=559.2301831875, rvalue=0.5924728621133739, pvalue=0.29245093583598003, stderr=2.7519114872772916)\n",
      "Radical: 灬 \n",
      " LinregressResult(slope=13.637178831864412, intercept=450.7909241674576, rvalue=0.4707634903029983, pvalue=0.08932458615046145, stderr=7.377809837711642)\n",
      "Radical: 殳 \n",
      " LinregressResult(slope=6.828071923076909, intercept=548.4197802461539, rvalue=0.17450662268622463, pvalue=0.8883339124012183, stderr=38.52748901471519)\n",
      "Radical: 鼎 \n",
      " LinregressResult(slope=nan, intercept=nan, rvalue=0.0, pvalue=nan, stderr=nan)\n",
      "Radical: 母 \n",
      " LinregressResult(slope=84.95187170000003, intercept=307.5080212999999, rvalue=1.0, pvalue=0.0, stderr=0.0)\n",
      "Radical: 牜 \n",
      " LinregressResult(slope=13.438324532203362, intercept=550.4696579915255, rvalue=0.4128894409178999, pvalue=0.3572441662344023, stderr=13.25685119964008)\n",
      "Radical: 黑 \n",
      " LinregressResult(slope=38.20145245000003, intercept=500.8090779499998, rvalue=0.7244566849716928, pvalue=0.4841814535846583, stderr=36.34867093671928)\n",
      "Radical: 立 \n",
      " LinregressResult(slope=-2.4140983879581257, intercept=575.5670544607331, rvalue=-0.1715945494325588, pvalue=0.6845201160590799, stderr=5.658300358170183)\n",
      "Radical: 夕 \n",
      " LinregressResult(slope=3.4656443645985426, intercept=509.28800216532846, rvalue=0.5030549524046644, pvalue=0.38763709148602143, stderr=3.437554174465529)\n",
      "Radical: 鸟 \n",
      " LinregressResult(slope=8.445946805952378, intercept=550.5131143531746, rvalue=0.6219890069044149, pvalue=0.07369398268765653, stderr=4.0187665707021045)\n",
      "Radical: 糸 \n",
      " LinregressResult(slope=14.17532182128378, intercept=497.35195386925676, rvalue=0.7639920637511161, pvalue=0.04555442489430284, stderr=5.353905423611498)\n",
      "Radical: 用 \n",
      " LinregressResult(slope=nan, intercept=nan, rvalue=0.0, pvalue=nan, stderr=nan)\n",
      "Radical: 肉 \n",
      " LinregressResult(slope=nan, intercept=nan, rvalue=0.0, pvalue=nan, stderr=nan)\n",
      "Radical: 覀 \n",
      " LinregressResult(slope=1.1692159777777913, intercept=574.3408368666666, rvalue=1.0, pvalue=0.0, stderr=0.0)\n",
      "Radical: 尢 \n",
      " LinregressResult(slope=-5.248147092857138, intercept=660.8989677000001, rvalue=-0.21081071995630757, pvalue=0.8647792585957604, stderr=24.335598112995623)\n",
      "Radical: 冂 \n",
      " LinregressResult(slope=9.383278903246755, intercept=556.5131653681818, rvalue=0.3384607502837391, pvalue=0.5116951751878689, stderr=13.043584170439983)\n",
      "Radical: 缶 \n",
      " LinregressResult(slope=0.7041751329383948, intercept=647.73028659218, rvalue=0.07704423928035757, pvalue=0.9509034606614601, stderr=9.11271371244638)\n",
      "Radical: 高 \n",
      " LinregressResult(slope=nan, intercept=nan, rvalue=0.0, pvalue=nan, stderr=nan)\n",
      "Radical: 骨 \n",
      " LinregressResult(slope=3.8968254000000306, intercept=673.3333332999998, rvalue=1.0, pvalue=0.0, stderr=0.0)\n",
      "Radical: 耒 \n",
      " LinregressResult(slope=nan, intercept=nan, rvalue=0.0, pvalue=1.0, stderr=inf)\n",
      "Radical: 羊 \n",
      " LinregressResult(slope=23.58444936989794, intercept=457.9377880540818, rvalue=0.8487461532744811, pvalue=0.032586417181695346, stderr=7.346995646163173)\n",
      "Radical: 身 \n",
      " LinregressResult(slope=-40.79411760000005, intercept=738.3823528000003, rvalue=-1.0, pvalue=0.0, stderr=0.0)\n",
      "Radical: 囗 \n",
      " LinregressResult(slope=45.68548227882354, intercept=375.54976178705874, rvalue=0.6735893016405863, pvalue=0.04668998357723577, stderr=18.947008541267056)\n",
      "Radical: 冖 \n",
      " LinregressResult(slope=31.440340262765943, intercept=384.62851731595754, rvalue=0.9606120512062863, pvalue=0.00932816568886056, stderr=5.251170210710139)\n",
      "Radical: 丷 \n",
      " LinregressResult(slope=1.1351775451219466, intercept=546.1650152475611, rvalue=0.09916395610856682, pvalue=0.851741629732002, stderr=5.695529009900589)\n",
      "Radical: 见 \n",
      " LinregressResult(slope=28.251793131250007, intercept=450.1147468294643, rvalue=0.8899978307402745, pvalue=0.007258919560573506, stderr=6.472966284407239)\n",
      "Radical: 彐 \n",
      " LinregressResult(slope=nan, intercept=nan, rvalue=0.0, pvalue=nan, stderr=nan)\n",
      "Radical: 韦 \n",
      " LinregressResult(slope=-32.601508620000004, intercept=803.21831896, rvalue=-1.0, pvalue=0.0, stderr=0.0)\n",
      "Radical: 毛 \n",
      " LinregressResult(slope=nan, intercept=nan, rvalue=0.0, pvalue=nan, stderr=nan)\n",
      "Radical: 赤 \n",
      " LinregressResult(slope=-28.86174243333331, intercept=776.7594697333332, rvalue=-1.0, pvalue=0.0, stderr=0.0)\n",
      "Radical: 行 \n",
      " LinregressResult(slope=6.334603580736539, intercept=557.1497837328612, rvalue=0.4832603556747522, pvalue=0.33153991627949536, stderr=5.737898513848271)\n",
      "Radical: 士 \n",
      " LinregressResult(slope=16.96503268888889, intercept=462.1941176, rvalue=0.8734861885889696, pvalue=0.12651381141103032, stderr=6.686177139213768)\n",
      "Radical: 虍 \n",
      " LinregressResult(slope=-13.021217879411763, intercept=673.3521591941176, rvalue=-0.313880419841454, pvalue=0.6070178316485689, stderr=22.74073935664201)\n",
      "Radical: 二 \n",
      " LinregressResult(slope=-5.396066329999998, intercept=552.31205595, rvalue=-0.2761235232730869, pvalue=0.5079824821138597, stderr=7.667907004258953)\n",
      "Radical: 幺 \n",
      " LinregressResult(slope=-6.996498600000019, intercept=598.2019141000002, rvalue=-0.6387837167113128, pvalue=0.5588757333975494, stderr=8.426968964315202)\n",
      "Radical: 鬼 \n",
      " LinregressResult(slope=115.63963130000002, intercept=137.73041489999997, rvalue=0.9340990540641886, pvalue=0.2324102780865131, stderr=44.19762640072307)\n",
      "Radical: 卩 \n",
      " LinregressResult(slope=18.412180545177645, intercept=488.4005917649747, rvalue=0.8602621293161081, pvalue=0.02792570093632795, stderr=5.456178344421962)\n",
      "Radical: 旡 \n",
      " LinregressResult(slope=nan, intercept=nan, rvalue=0.0, pvalue=nan, stderr=nan)\n",
      "Radical: 示 \n",
      " LinregressResult(slope=-3.004648097222207, intercept=635.0830479416666, rvalue=-0.07614607069928528, pvalue=0.9031415850178264, stderr=22.715523876820225)\n",
      "Radical: 艮 \n",
      " LinregressResult(slope=61.38787879999995, intercept=477.0121212, rvalue=1.0, pvalue=0.0, stderr=0.0)\n",
      "Radical: 廴 \n",
      " LinregressResult(slope=-95.7058823000001, intercept=1095.5882350000004, rvalue=-1.0, pvalue=0.0, stderr=0.0)\n",
      "Radical: 金 \n",
      " LinregressResult(slope=nan, intercept=nan, rvalue=0.0, pvalue=nan, stderr=nan)\n",
      "Radical: 水 \n",
      " LinregressResult(slope=17.85642767765957, intercept=482.7719113138297, rvalue=0.9872069325748074, pvalue=0.0017336472700608127, stderr=1.6650782445352361)\n",
      "Radical: 匚 \n",
      " LinregressResult(slope=16.115754109999997, intercept=538.4437984900002, rvalue=0.47479780015647255, pvalue=0.3413208343820174, stderr=14.936245643219925)\n",
      "Radical: 鱼 \n",
      " LinregressResult(slope=2.9121219428571505, intercept=615.7566917285715, rvalue=0.14995105360432026, pvalue=0.8500489463956797, stderr=13.577089528313474)\n",
      "Radical: 言 \n",
      " LinregressResult(slope=6.68899711851851, intercept=570.2677272333334, rvalue=0.39750145049603414, pvalue=0.5075489713306067, stderr=8.914886129420912)\n",
      "Radical: 青 \n",
      " LinregressResult(slope=nan, intercept=nan, rvalue=0.0, pvalue=nan, stderr=nan)\n",
      "Radical: 臼 \n",
      " LinregressResult(slope=19.2643428192308, intercept=519.6361889115382, rvalue=0.4757263916529284, pvalue=0.6843704904840782, stderr=35.61876630005387)\n",
      "Radical: 厄 \n",
      " LinregressResult(slope=-23.761471900000004, intercept=595.8943724000001, rvalue=-1.0, pvalue=0.0, stderr=0.0)\n",
      "Radical: 卜 \n",
      " LinregressResult(slope=32.22380954999998, intercept=412.71428560000004, rvalue=0.9785251097217447, pvalue=0.13217243100596188, stderr=6.7879895893484)\n",
      "Radical: 廾 \n",
      " LinregressResult(slope=-46.85149188913042, intercept=739.5205455717391, rvalue=-0.47087755992760066, pvalue=0.42341807621695726, stderr=50.67819687838662)\n",
      "Radical: 耂 \n",
      " LinregressResult(slope=30.185714299999972, intercept=434.91428570000005, rvalue=1.0, pvalue=0.0, stderr=0.0)\n",
      "Radical: 非 \n",
      " LinregressResult(slope=56.470588225, intercept=90.97058832499988, rvalue=1.0, pvalue=0.0, stderr=0.0)\n",
      "Radical: 牛 \n",
      " LinregressResult(slope=29.383943708474597, intercept=449.5421004762711, rvalue=0.7823677477468396, pvalue=0.21763225225316027, stderr=16.54033999398382)\n",
      "Radical: 里 \n",
      " LinregressResult(slope=2.0551020285714356, intercept=528.5122449285715, rvalue=0.15469777324066447, pvalue=0.9011192386827628, stderr=13.124703353687963)\n",
      "Radical: 乙 \n",
      " LinregressResult(slope=2.937846352264799, intercept=528.4613664986064, rvalue=0.17491773789508575, pvalue=0.6786576128016895, stderr=6.751059828844368)\n",
      "Radical: 斗 \n",
      " LinregressResult(slope=47.371682209999975, intercept=268.5427819700002, rvalue=0.8590097201748432, pvalue=0.14099027982515672, stderr=19.96370518290595)\n",
      "Radical: 方 \n",
      " LinregressResult(slope=24.279875983146052, intercept=393.0978315651687, rvalue=0.9709965561328974, pvalue=0.0012496007892739708, stderr=2.989279309403978)\n",
      "Radical: 玄 \n",
      " LinregressResult(slope=-2.892156866666672, intercept=564.7352941, rvalue=-1.0, pvalue=0.0, stderr=0.0)\n",
      "Radical: 髟 \n",
      " LinregressResult(slope=nan, intercept=nan, rvalue=0.0, pvalue=nan, stderr=nan)\n",
      "Radical: 氏 \n",
      " LinregressResult(slope=67.15952379999996, intercept=428.8976191, rvalue=0.9999999999999998, pvalue=0.0, stderr=0.0)\n",
      "Radical: 而 \n",
      " LinregressResult(slope=nan, intercept=nan, rvalue=0.0, pvalue=0.0, stderr=0.0)\n",
      "Radical: 黍 \n",
      " LinregressResult(slope=nan, intercept=nan, rvalue=0.0, pvalue=nan, stderr=nan)\n",
      "Radical: 片 \n",
      " LinregressResult(slope=nan, intercept=nan, rvalue=0.0, pvalue=nan, stderr=nan)\n",
      "Radical: 风 \n",
      " LinregressResult(slope=nan, intercept=nan, rvalue=0.0, pvalue=nan, stderr=nan)\n",
      "Radical: 攴 \n",
      " LinregressResult(slope=nan, intercept=nan, rvalue=0.0, pvalue=nan, stderr=nan)\n",
      "Radical: 入 \n",
      " LinregressResult(slope=nan, intercept=nan, rvalue=0.0, pvalue=nan, stderr=nan)\n",
      "Radical: 辰 \n",
      " LinregressResult(slope=nan, intercept=nan, rvalue=0.0, pvalue=nan, stderr=nan)\n",
      "Radical: 舌 \n",
      " LinregressResult(slope=2.4191176499999756, intercept=517.2500000000001, rvalue=1.0, pvalue=0.0, stderr=0.0)\n",
      "Radical: 甘 \n",
      " LinregressResult(slope=-0.03116885000002867, intercept=569.0961040000002, rvalue=-1.0, pvalue=0.0, stderr=0.0)\n",
      "Radical: 弋 \n",
      " LinregressResult(slope=nan, intercept=nan, rvalue=0.0, pvalue=nan, stderr=nan)\n",
      "Radical: 亅 \n",
      " LinregressResult(slope=-21.085064950000003, intercept=683.70974035, rvalue=-1.0, pvalue=0.0, stderr=0.0)\n",
      "Radical: 乛 \n",
      " LinregressResult(slope=nan, intercept=nan, rvalue=0.0, pvalue=nan, stderr=nan)\n",
      "Radical: 疋 \n",
      " LinregressResult(slope=-14.264705900000024, intercept=666.7058825000001, rvalue=-1.0, pvalue=0.0, stderr=0.0)\n",
      "Radical: 爻 \n",
      " LinregressResult(slope=nan, intercept=nan, rvalue=0.0, pvalue=nan, stderr=nan)\n",
      "Radical: 聿 \n",
      " LinregressResult(slope=57.746130040000004, intercept=419.5665634200001, rvalue=1.0, pvalue=0.0, stderr=0.0)\n",
      "Radical: 网 \n",
      " LinregressResult(slope=nan, intercept=nan, rvalue=0.0, pvalue=nan, stderr=nan)\n",
      "Radical: 无 \n",
      " LinregressResult(slope=nan, intercept=nan, rvalue=0.0, pvalue=nan, stderr=nan)\n",
      "Radical: 犬 \n",
      " LinregressResult(slope=nan, intercept=nan, rvalue=0.0, pvalue=nan, stderr=nan)\n",
      "Radical: 豕 \n",
      " LinregressResult(slope=nan, intercept=nan, rvalue=0.0, pvalue=nan, stderr=nan)\n",
      "Radical: 血 \n",
      " LinregressResult(slope=nan, intercept=nan, rvalue=0.0, pvalue=nan, stderr=nan)\n",
      "Radical: 色 \n",
      " LinregressResult(slope=nan, intercept=nan, rvalue=0.0, pvalue=nan, stderr=nan)\n",
      "Radical: 至 \n",
      " LinregressResult(slope=nan, intercept=nan, rvalue=0.0, pvalue=nan, stderr=nan)\n",
      "Radical: 皮 \n",
      " LinregressResult(slope=nan, intercept=nan, rvalue=0.0, pvalue=nan, stderr=nan)\n"
     ]
    }
   ],
   "source": [
    "# Study 3 analysis\n",
    "r_value_list = []\n",
    "p_value_list = []\n",
    "for j in radicals:\n",
    "    r = []\n",
    "    for i in range(len(new_rt)):\n",
    "        if radical_list[i] == j:\n",
    "            r.append(new_rt[i])\n",
    "    \n",
    "    s = []\n",
    "    for i in range(len(new_char)):\n",
    "        if radical_list[i] == j:\n",
    "            s.append(radical_removed[i])\n",
    "    \n",
    "    result_3 = stats.linregress(s, r)\n",
    "    slope, intercept, r_value, p_value, std_err = result_3\n",
    "    r_value_list.append(r_value)\n",
    "    if r_value != 0:\n",
    "        p_value_list.append(p_value)\n",
    "    print(\"Radical:\", j, \"\\n\" , result_3)\n",
    "    "
   ]
  },
  {
   "cell_type": "code",
   "execution_count": 151,
   "metadata": {
    "scrolled": true
   },
   "outputs": [
    {
     "name": "stdout",
     "output_type": "stream",
     "text": [
      "Average Pearson's r correlation coefficient is:  0.1542809522266968\n",
      "Average p value is:  0.3194279650468257\n"
     ]
    }
   ],
   "source": [
    "ave_r = sum(r_value_list)/len(r_value_list)\n",
    "print(\"Average Pearson's r correlation coefficient is: \", ave_r)\n",
    "\n",
    "ave_p = sum(p_value_list)/len(p_value_list)\n",
    "print(\"Average p value is: \", ave_p)\n"
   ]
  },
  {
   "cell_type": "code",
   "execution_count": 156,
   "metadata": {},
   "outputs": [
    {
     "data": {
      "text/plain": [
       "Text(0.5, 0, 'Radicals')"
      ]
     },
     "execution_count": 156,
     "metadata": {},
     "output_type": "execute_result"
    },
    {
     "data": {
      "image/png": "[encoded data removed]",
      "text/plain": [
       "<Figure size 432x288 with 1 Axes>"
      ]
     },
     "metadata": {
      "needs_background": "light"
     },
     "output_type": "display_data"
    }
   ],
   "source": [
    "fig = plt.figure()\n",
    "ax = fig.add_axes([0,0,1,1])\n",
    "ax.bar(radicals, r_value_list)\n",
    "plt.ylabel(\"Pearson's r correlation coefficient\")\n",
    "plt.xlabel(\"Radicals\")"
   ]
  },
  {
   "cell_type": "code",
   "execution_count": 153,
   "metadata": {},
   "outputs": [
    {
     "name": "stdout",
     "output_type": "stream",
     "text": [
      "Correlation for study 1 is:  (0.3098711047884415, 8.966165864431881e-57)\n",
      "Correlation for study 2 is:  (0.2790367734354088, 7.186914042211598e-46)\n"
     ]
    }
   ],
   "source": [
    "# correlation analysis\n",
    "from scipy.stats import pearsonr\n",
    "stroke_cor = pearsonr(stroke_count, rt)\n",
    "radical_cor = pearsonr(radical_removed, new_rt)\n",
    "\n",
    "# study 1 correlation\n",
    "print(\"Correlation for study 1 is: \", stroke_cor)\n",
    "\n",
    "# study 2 correlation\n",
    "print(\"Correlation for study 2 is: \", radical_cor)"
   ]
  },
  {
   "cell_type": "code",
   "execution_count": 154,
   "metadata": {},
   "outputs": [
    {
     "name": "stdout",
     "output_type": "stream",
     "text": [
      "霸\n",
      "矗\n",
      "蠢\n",
      "罐\n",
      "躏\n",
      "囊\n",
      "巍\n",
      "醺\n"
     ]
    }
   ],
   "source": [
    "# Check characters with more than 20 strokes\n",
    "for i in char:\n",
    "    if charlookup.getStrokeCount(i) >20:\n",
    "        print(i)"
   ]
  }
 ],
 "metadata": {
  "kernelspec": {
   "display_name": "Python 3",
   "language": "python",
   "name": "python3"
  },
  "language_info": {
   "codemirror_mode": {
    "name": "ipython",
    "version": 3
   },
   "file_extension": ".py",
   "mimetype": "text/x-python",
   "name": "python",
   "nbconvert_exporter": "python",
   "pygments_lexer": "ipython3",
   "version": "3.8.6"
  }
 },
 "nbformat": 4,
 "nbformat_minor": 4
}
